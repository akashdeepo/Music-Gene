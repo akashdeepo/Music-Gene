{
 "cells": [
  {
   "cell_type": "code",
   "execution_count": 2,
   "metadata": {},
   "outputs": [
    {
     "name": "stderr",
     "output_type": "stream",
     "text": [
      "c:\\Users\\Akash\\lib\\site-packages\\pydub\\utils.py:170: RuntimeWarning: Couldn't find ffmpeg or avconv - defaulting to ffmpeg, but may not work\n",
      "  warn(\"Couldn't find ffmpeg or avconv - defaulting to ffmpeg, but may not work\", RuntimeWarning)\n"
     ]
    },
    {
     "ename": "NameError",
     "evalue": "name 'durations' is not defined",
     "output_type": "error",
     "traceback": [
      "\u001b[1;31m---------------------------------------------------------------------------\u001b[0m",
      "\u001b[1;31mNameError\u001b[0m                                 Traceback (most recent call last)",
      "Input \u001b[1;32mIn [2]\u001b[0m, in \u001b[0;36m<cell line: 62>\u001b[1;34m()\u001b[0m\n\u001b[0;32m     59\u001b[0m     \u001b[38;5;28;01mreturn\u001b[39;00m sequence\n\u001b[0;32m     61\u001b[0m \u001b[38;5;66;03m# Generate the structured sequence\u001b[39;00m\n\u001b[1;32m---> 62\u001b[0m structured_sequence \u001b[38;5;241m=\u001b[39m \u001b[43mcreate_structured_sequence\u001b[49m\u001b[43m(\u001b[49m\u001b[43mscales\u001b[49m\u001b[43m,\u001b[49m\u001b[43m \u001b[49m\u001b[43mchord_progressions\u001b[49m\u001b[43m)\u001b[49m\n\u001b[0;32m     64\u001b[0m \u001b[38;5;66;03m# Generate the 30-second music clip with the structured sequence\u001b[39;00m\n\u001b[0;32m     65\u001b[0m clip \u001b[38;5;241m=\u001b[39m create_8bit_music_clip(structured_sequence, apply_counter_melody\u001b[38;5;241m=\u001b[39m\u001b[38;5;28;01mTrue\u001b[39;00m)\n",
      "Input \u001b[1;32mIn [2]\u001b[0m, in \u001b[0;36mcreate_structured_sequence\u001b[1;34m(scales, chord_progressions, duration)\u001b[0m\n\u001b[0;32m     31\u001b[0m \u001b[38;5;28;01mfor\u001b[39;00m _ \u001b[38;5;129;01min\u001b[39;00m \u001b[38;5;28mrange\u001b[39m(\u001b[38;5;241m8\u001b[39m):  \u001b[38;5;66;03m# Adjust the number of notes for a short intro\u001b[39;00m\n\u001b[0;32m     32\u001b[0m     note \u001b[38;5;241m=\u001b[39m random\u001b[38;5;241m.\u001b[39mchoice(scales[\u001b[38;5;241m0\u001b[39m])\n\u001b[1;32m---> 33\u001b[0m     sequence\u001b[38;5;241m.\u001b[39mappend((note, random\u001b[38;5;241m.\u001b[39mchoice(\u001b[43mdurations\u001b[49m)))\n\u001b[0;32m     34\u001b[0m     total_duration \u001b[38;5;241m+\u001b[39m\u001b[38;5;241m=\u001b[39m sequence[\u001b[38;5;241m-\u001b[39m\u001b[38;5;241m1\u001b[39m][\u001b[38;5;241m1\u001b[39m]\n\u001b[0;32m     36\u001b[0m \u001b[38;5;66;03m# Build-up (e.g., increasing intensity, more complex notes or chords)\u001b[39;00m\n",
      "\u001b[1;31mNameError\u001b[0m: name 'durations' is not defined"
     ]
    }
   ],
   "source": [
    "# Import necessary libraries\n",
    "import numpy as np\n",
    "import random\n",
    "from sklearn.preprocessing import MinMaxScaler\n",
    "from keras.models import Sequential\n",
    "from keras.layers import LSTM, Dense, Dropout\n",
    "from pydub import AudioSegment\n",
    "\n",
    "# Define Music Theory Elements\n",
    "# Define frequencies for the C Major, G Major, and A Minor scales (in Hz)\n",
    "c_major_scale = [261.63, 293.66, 329.63, 349.23, 392.00, 440.00, 493.88, 523.25]  # C4 to C5\n",
    "g_major_scale = [392.00, 440.00, 493.88, 523.25, 587.33, 659.25, 739.99, 783.99]  # G4 to G5\n",
    "a_minor_scale = [220.00, 246.94, 261.63, 293.66, 329.63, 349.23, 392.00, 440.00]  # A3 to A4\n",
    "\n",
    "# Chord progressions in C Major, G Major, and A Minor\n",
    "chord_progressions = {\n",
    "    \"I-IV-V\": [[261.63, 329.63, 392.00], [349.23, 440.00, 523.25], [392.00, 493.88, 261.63]],  # C-F-G\n",
    "    \"ii-V-I\": [[293.66, 349.23, 440.00], [392.00, 493.88, 261.63], [261.63, 329.63, 392.00]],  # Dm-G-C\n",
    "    \"vi-IV-I-V\": [[220.00, 293.66, 349.23], [349.23, 440.00, 523.25], [261.63, 329.63, 392.00], [392.00, 493.88, 261.63]]  # Am-F-C-G\n",
    "}\n",
    "\n",
    "# Define different scales\n",
    "scales = [c_major_scale, g_major_scale, a_minor_scale]\n",
    "\n",
    "# Function to create a structured sequence with build-up, chorus, and fade-out\n",
    "def create_structured_sequence(scales, chord_progressions, duration=30):\n",
    "    sequence = []\n",
    "    total_duration = 0\n",
    "    \n",
    "    # Intro (e.g., simple notes, soft)\n",
    "    for _ in range(8):  # Adjust the number of notes for a short intro\n",
    "        note = random.choice(scales[0])\n",
    "        sequence.append((note, random.choice(durations)))\n",
    "        total_duration += sequence[-1][1]\n",
    "    \n",
    "    # Build-up (e.g., increasing intensity, more complex notes or chords)\n",
    "    for _ in range(16):  # Build up with more notes or simple chords\n",
    "        note_or_chord = random.choice([random.choice(scales[0]), random.choice(chord_progressions[\"I-IV-V\"])])\n",
    "        sequence.append((note_or_chord, random.choice(durations)))\n",
    "        total_duration += sequence[-1][1]\n",
    "    \n",
    "    # Chorus (e.g., repeating catchy pattern or a strong chord progression)\n",
    "    for _ in range(16):  # Chorus with strong chords\n",
    "        note_or_chord = random.choice(chord_progressions[\"vi-IV-I-V\"])\n",
    "        sequence.append((note_or_chord, random.choice(durations)))\n",
    "        total_duration += sequence[-1][1]\n",
    "    \n",
    "    # Outro (e.g., soft notes or chords, fading out)\n",
    "    for _ in range(8):  # Outro, slower and fading\n",
    "        note = random.choice(scales[0])\n",
    "        sequence.append((note, random.choice(durations)))\n",
    "        total_duration += sequence[-1][1]\n",
    "    \n",
    "    # Ensure the sequence length matches the desired duration\n",
    "    while total_duration > duration:\n",
    "        sequence.pop()\n",
    "        total_duration = sum([dur for _, dur in sequence])\n",
    "    \n",
    "    return sequence\n",
    "\n",
    "# Generate the structured sequence\n",
    "structured_sequence = create_structured_sequence(scales, chord_progressions)\n",
    "\n",
    "# Generate the 30-second music clip with the structured sequence\n",
    "clip = create_8bit_music_clip(structured_sequence, apply_counter_melody=True)\n",
    "\n",
    "# Apply fade-out to the last few seconds\n",
    "fade_duration = 5  # Fade out over the last 5 seconds\n",
    "clip = clip.fade_out(fade_duration * 1000)\n",
    "\n",
    "# Save the final clip\n",
    "clip_name = \"structured_8bit_music_clip.wav\"\n",
    "clip.export(clip_name, format=\"wav\")\n",
    "print(f\"Generated and saved '{clip_name}'\")\n"
   ]
  }
 ],
 "metadata": {
  "kernelspec": {
   "display_name": "Python 3",
   "language": "python",
   "name": "python3"
  },
  "language_info": {
   "codemirror_mode": {
    "name": "ipython",
    "version": 3
   },
   "file_extension": ".py",
   "mimetype": "text/x-python",
   "name": "python",
   "nbconvert_exporter": "python",
   "pygments_lexer": "ipython3",
   "version": "3.10.4"
  }
 },
 "nbformat": 4,
 "nbformat_minor": 2
}
